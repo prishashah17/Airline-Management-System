{
 "cells": [
  {
   "attachments": {},
   "cell_type": "markdown",
   "id": "e58f7783",
   "metadata": {},
   "source": [
    "DBMS INNOVATIVE PROJECT\n",
    "ROLL NO.:21BCE237\n",
    "NAME:PRISHA SHAH\n",
    "TOPIC: AIRLINE MANAGEMENT SYSTEM"
   ]
  },
  {
   "cell_type": "code",
   "execution_count": null,
   "id": "e4f138f2",
   "metadata": {},
   "outputs": [],
   "source": [
    "import mysql.connector\n",
    "mydb = mysql.connector.connect(\n",
    "    host=\"localhost\",\n",
    "    user=\"root\",\n",
    "    passwd=\"prishashah\",\n",
    "    database=\"mysql\"\n",
    ")\n",
    "\n",
    "print(mydb.connection_id)\n",
    "\n",
    "\n",
    "if mydb.is_connected() == False:\n",
    "    print(\"error in connecting to mysql database\")\n",
    "mycursor = mydb.cursor()"
   ]
  },
  {
   "cell_type": "code",
   "execution_count": 1,
   "id": "33de7ca2",
   "metadata": {},
   "outputs": [
    {
     "name": "stdout",
     "output_type": "stream",
     "text": [
      "270\n",
      "\t\t\t\t\tWELCOME TO AIRLINE MANAGEMENT SYSTEM\n",
      "\t\t\t\t\t\t1.SHOW OPERATION\n",
      "\t\t\t\t\t\t2.INSERT OPERATION\n",
      "\t\t\t\t\t\t3.UPDATE OPERATION\n",
      "\t\t\t\t\t\t4.DELETE OPERATION\n",
      "\t\t\t\t\t\t5.DROP TABLE\n",
      "\t\t\t\t\t\t6.PRIMARY AND FOREIGN KEY\n",
      "\t\t\t\t\t\t7.SHOW CREATE TABLE\n",
      "Enter your choice:1\n",
      "Enter the name of the table to search: Passenger\n",
      "Data in table Passenger:\n",
      "('P02022', 'Olivia', 'Garcia', 'Marie', datetime.date(1982, 1, 31), '4563455463', 41, 'Atlanta')\n",
      "('P15973', 'Emily', 'Johnson', 'Elizabeth', datetime.date(1987, 5, 20), '9088763452', 35, 'Illinois')\n",
      "('P20330', 'Charlotte', 'Wilson', 'WilsonRose', datetime.date(1988, 12, 2), '4533512908', 34, 'Texas')\n",
      "('P35103', 'Sophia', 'Thomas', 'Victoria', datetime.date(1983, 4, 14), '1290093453', 40, 'Georgia')\n",
      "('P49066', 'Jackson', 'Anderson', 'Benjamin', datetime.date(1996, 6, 29), '4509112323', 26, 'Georgia')\n",
      "('P53269', 'Ava', 'Rodriguez', 'Grace', datetime.date(1985, 9, 7), '9034551234', 37, 'Ohio')\n",
      "('P64319', 'William', 'Jackson', 'Daniel', datetime.date(1990, 10, 23), '9034223123', 32, 'Ohio')\n",
      "('P78126', 'Liam', 'Martinez', 'Michael', datetime.date(1992, 3, 18), '4533243543', 29, 'Georgia')\n",
      "('P81254', 'Noah', 'Davis', 'Alexander', datetime.date(1999, 11, 24), '9045334512', 23, 'Las Vegas')\n",
      "('P96471', 'Ethan', 'Brown', 'James', datetime.date(1994, 8, 12), '9034121234', 41, 'Georgia')\n",
      "WOULD YOU LIKE TO CONTINUE? (YES/NO)yes\n",
      " \n",
      "\t\t\t\t\tWELCOME TO AIRLINE MANAGEMENT SYSTEM\n",
      "\t\t\t\t\t\t1.SHOW OPERATION\n",
      "\t\t\t\t\t\t2.INSERT OPERATION\n",
      "\t\t\t\t\t\t3.UPDATE OPERATION\n",
      "\t\t\t\t\t\t4.DELETE OPERATION\n",
      "\t\t\t\t\t\t5.DROP TABLE\n",
      "\t\t\t\t\t\t6.PRIMARY AND FOREIGN KEY\n",
      "\t\t\t\t\t\t7.SHOW CREATE TABLE\n",
      "Enter your choice:6\n",
      "Enter the name of the table to get keys for: Flight\n",
      "Primary key for Flight is FlightNo\n",
      "No foreign keys found for Flight\n",
      "WOULD YOU LIKE TO CONTINUE? (YES/NO)no\n",
      " \n",
      "THANK YOU, HOPE TO SEE YOU AGAIN!\n"
     ]
    }
   ],
   "source": [
    "\n",
    "import mysql.connector\n",
    "mydb = mysql.connector.connect(\n",
    "    host=\"localhost\",\n",
    "    user=\"root\",\n",
    "    passwd=\"prishashah\",\n",
    "    database=\"mysql\"\n",
    ")\n",
    "\n",
    "print(mydb.connection_id)\n",
    "\n",
    "if mydb.is_connected() == False:\n",
    "    print(\"error in connecting to mysql database\")\n",
    "mycursor = mydb.cursor()\n",
    "#CREATING TABLE\n",
    "\"\"\"\n",
    "#mycursor.execute(\"CREATE TABLE Passenger (PId varchar(10) PRIMARY KEY, PFirstName varchar(10) NOT NULL, PMiddleName varchar(10), PLastName varchar(10), DOB date, PhNo varchar(10) NOT NULL, Age int, Address varchar(10))\")\n",
    "#mycursor.execute(\"CREATE TABLE Flight (FlightNo varchar(10) PRIMARY KEY, Airline_Name varchar(30) NOT NULL, Dep_time time, Arr_time time, Source varchar(20), Destination varchar(20), Seat_avail int )\")\n",
    "mycursor.execute(\"CREATE TABLE Airline(AirlineId varchar(20) PRIMARY KEY,Airline_Name varchar(30), Airline_Country varchar(30), Airline_Headquarters varchar(30))\")\n",
    "#mycursor.execute(\"CREATE TABLE Ticket(PNR_No varchar(30) PRIMARY KEY, FlightNo varchar(10) REFERENCES Flight(FlightNo), JourneyDate date, PId varchar(10) REFERENCES Passenger(PId), SeatNo varchar(5), Source varchar(20), Destination varchar(20), Class varchar(10) )\")\n",
    "mycursor.execute(\"CREATE TABLE Payment(Payment_id varchar(10) primary key, PNR_No varchar(20),Payment_Date date, Amount int)\")\n",
    "#mycursor.execute(\"CREATE TABLE Class(Flight_no varchar(10) primary key, Class_Type varchar(10))\")\n",
    "\"\"\"\n",
    "#INSERTING ENTRIES FOR THE TABLE\n",
    "\n",
    "def insert():\n",
    "    table_name = input(\"Enter the name of the table to insert data into: \")\n",
    "\n",
    "    # Execute a SELECT statement to retrieve the table description\n",
    "    mycursor.execute(\"SELECT * FROM {}\".format(table_name))\n",
    "\n",
    "    # Get the column names from the description\n",
    "    column_names = [desc[0] for desc in mycursor.description]\n",
    "\n",
    "    num_cols = len(column_names)\n",
    "\n",
    "    num_rows = int(input(\"Enter the number of rows to insert: \"))\n",
    "\n",
    "    # Define an INSERT statement for the selected table\n",
    "    insert_stmt = \"INSERT INTO {} ({}) VALUES ({})\".format(\n",
    "        table_name,\n",
    "        \", \".join(column_names),\n",
    "        \", \".join([\"%s\"] * num_cols)\n",
    "    )\n",
    "\n",
    "    # Get user input for the data to insert\n",
    "    rows_data = []\n",
    "    for i in range(num_rows):\n",
    "        print(\"Enter data for row {}:\".format(i+1))\n",
    "        row_data = []\n",
    "        for j in range(num_cols):\n",
    "            data = input(\"Enter data for column {} ({}): \".format(j+1, column_names[j]))\n",
    "            row_data.append(data)\n",
    "        rows_data.append(row_data)\n",
    "\n",
    "    try:\n",
    "        # Consume all the results before executing a new query\n",
    "        while mycursor.nextset():\n",
    "            pass\n",
    "        mydb.consume_results()\n",
    "\n",
    "        # Insert the data into the selected table\n",
    "        mycursor.executemany(insert_stmt, rows_data)\n",
    "        mydb.commit()\n",
    "        print(\"{} rows inserted into {} table.\".format(mycursor.rowcount, table_name))\n",
    "\n",
    "    except mysql.connector.errors.Error as e:\n",
    "        print(\"Error occurred:\", e.msg)\n",
    "\n",
    "#DISPLAY OPERATION\n",
    "def display():\n",
    "    table_name = input(\"Enter the name of the table to search: \")\n",
    "\n",
    "    # Execute a SELECT statement to retrieve all data from the table\n",
    "    mycursor.execute(\"SELECT * FROM {}\".format(table_name))\n",
    "\n",
    "    # Fetch all the data from the table\n",
    "    rows = mycursor.fetchall()\n",
    "\n",
    "    # Display the data to the user\n",
    "    if rows:\n",
    "        print(\"Data in table {}:\".format(table_name))\n",
    "        for row in rows:\n",
    "            print(row)\n",
    "    else:\n",
    "        print(\"Table {} is empty.\".format(table_name))\n",
    "\n",
    "#UPDATE OPERATION\n",
    "def update():\n",
    "    # Get user input for table and update value\n",
    "    table_name = input(\"Which table do you want to update? \")\n",
    "    primary_key_name = input(\"Which column is the primary key? \")\n",
    "    primary_key_value = input(f\"What is the value of the {primary_key_name} for the row you want to update? \")\n",
    "    column_name = input(\"Which column do you want to update? \")\n",
    "    column_value = input(f\"What do you want to update the {column_name} column to? \")\n",
    "\n",
    "    # Construct the SQL query to update the table\n",
    "    query = f\"UPDATE {table_name} SET {column_name} = '{column_value}' WHERE {primary_key_name} = '{primary_key_value}'\"\n",
    "\n",
    "    # Execute the query\n",
    "    mycursor.execute(query)\n",
    "\n",
    "#DELETE OPERATION\n",
    "def delete():\n",
    "    table_name = input(\"Which table do you want to delete a row from? \")\n",
    "    primary_key_name = input(\"Which column is the primary key? \")\n",
    "    primary_key_value = input(f\"What is the value of the {primary_key_name} for the row you want to delete? \")\n",
    "\n",
    "    # Construct the SQL query to delete the row\n",
    "    query = f\"DELETE FROM {table_name} WHERE {primary_key_name} = '{primary_key_value}'\"\n",
    "\n",
    "\n",
    "#DROP OPERATION\n",
    "def drop():\n",
    "    table_name = input(\"Which table do you want to drop? \")\n",
    "    # Construct the SQL query to drop the table\n",
    "    query = f\"DROP TABLE {table_name}\"\n",
    "    # Execute the query\n",
    "    mycursor.execute(query)\n",
    "    # Print a message indicating that the table has been dropped\n",
    "    print(f\"The {table_name} table has been dropped\")\n",
    "    \n",
    "def get_keys():\n",
    "    table_name = input(\"Enter the name of the table to get keys for: \")\n",
    "    mycursor.execute(f\"SHOW KEYS FROM {table_name} WHERE Key_name = 'PRIMARY'\")\n",
    "    primary_key = mycursor.fetchone()\n",
    "    if primary_key:\n",
    "        print(f\"Primary key for {table_name} is {primary_key[4]}\")\n",
    "    else:\n",
    "        print(f\"No primary key found for {table_name}\")\n",
    "    mycursor.execute(f\"SELECT CONSTRAINT_NAME, COLUMN_NAME, REFERENCED_TABLE_NAME, REFERENCED_COLUMN_NAME FROM INFORMATION_SCHEMA.KEY_COLUMN_USAGE WHERE TABLE_NAME = '{table_name}' AND REFERENCED_TABLE_NAME IS NOT NULL\")\n",
    "    foreign_keys = mycursor.fetchall()\n",
    "    if foreign_keys:\n",
    "        print(f\"Foreign keys for {table_name}:\")\n",
    "        for fk in foreign_keys:\n",
    "            print(f\"{fk[0]}: {fk[1]} references {fk[2]}.{fk[3]}\")\n",
    "    else:\n",
    "        print(f\"No foreign keys found for {table_name}\")\n",
    "def show_create_table():\n",
    "    table_name = input(\"Enter the name of the table to show CREATE TABLE statement for: \")\n",
    "    try:\n",
    "        mycursor.execute(f\"SHOW CREATE TABLE {table_name}\")\n",
    "        result = mycursor.fetchone()\n",
    "        print(result[1])\n",
    "    except mysql.connector.errors.ProgrammingError as e:\n",
    "        print(f\"Error occurred: {e.msg}\")\n",
    "def menu():\n",
    "    c = \"yes\"\n",
    "    while c.lower() == \"yes\":\n",
    "        print(\"\\t\\t\\t\\t\\tWELCOME TO AIRLINE MANAGEMENT SYSTEM\")\n",
    "        print(\"\\t\\t\\t\\t\\t\\t1.SHOW OPERATION\")\n",
    "        print(\"\\t\\t\\t\\t\\t\\t2.INSERT OPERATION\")\n",
    "        print(\"\\t\\t\\t\\t\\t\\t3.UPDATE OPERATION\")\n",
    "        print(\"\\t\\t\\t\\t\\t\\t4.DELETE OPERATION\")\n",
    "        print(\"\\t\\t\\t\\t\\t\\t5.DROP TABLE\")\n",
    "        print(\"\\t\\t\\t\\t\\t\\t6.PRIMARY AND FOREIGN KEY\")\n",
    "        print(\"\\t\\t\\t\\t\\t\\t7.SHOW CREATE TABLE\")\n",
    "        choice = input(\"Enter your choice:\")\n",
    "        if choice == \"1\":\n",
    "            display()\n",
    "        elif choice == \"2\":\n",
    "            insert()\n",
    "        elif choice == \"3\":\n",
    "            update()\n",
    "        elif choice == \"4\":\n",
    "            delete()\n",
    "        elif choice == \"5\":\n",
    "            drop()\n",
    "        elif choice == \"6\":\n",
    "            get_keys()\n",
    "            \n",
    "        elif choice== \"7\":\n",
    "            show_create_table()\n",
    "        else:\n",
    "            print(\"WRONG CHOICE, PLEASE TRY AGAIN!\")\n",
    "        \n",
    "        c = input(\"WOULD YOU LIKE TO CONTINUE? (YES/NO)\").lower()\n",
    "        print(\" \")\n",
    "        \n",
    "        if c == \"no\" or c == \"NO\":\n",
    "            print(\"THANK YOU, HOPE TO SEE YOU AGAIN!\")\n",
    "        elif c == \"yes\" or c==\"YES\":\n",
    "            continue\n",
    "        else:\n",
    "            print(\"WRONG INPUT, PLEASE TRY AGAIN!\")\n",
    "\n",
    "menu()\n",
    "mycursor.close()\n",
    "\n",
    "mydb.close()"
   ]
  },
  {
   "cell_type": "code",
   "execution_count": null,
   "id": "6ab750a8",
   "metadata": {},
   "outputs": [],
   "source": [
    "#Retrieve all flights that depart from a specific source and specific date.\n",
    "mycursor.execute(\"SELECT * FROM Ticket WHERE Source = 'Houston' AND JourneyDate = '2023-05-02'\")\n",
    "result = mycursor.fetchall()\n",
    "for row in result:\n",
    "  print(row)"
   ]
  },
  {
   "cell_type": "code",
   "execution_count": 4,
   "id": "0ce356ab",
   "metadata": {},
   "outputs": [
    {
     "name": "stdout",
     "output_type": "stream",
     "text": [
      "233\n",
      "('P20330', 'Charlotte', 'Wilson', 'WilsonRose', datetime.date(1988, 12, 2), '4533512908', 34, 'Texas')\n",
      "('P53269', 'Ava', 'Rodriguez', 'Grace', datetime.date(1985, 9, 7), '9034551234', 37, 'Ohio')\n",
      "('P78126', 'Liam', 'Martinez', 'Michael', datetime.date(1992, 3, 18), '4533243543', 29, 'Georgia')\n"
     ]
    }
   ],
   "source": [
    "import mysql.connector\n",
    "mydb = mysql.connector.connect(\n",
    "    host=\"localhost\",\n",
    "    user=\"root\",\n",
    "    passwd=\"prishashah\",\n",
    "    database=\"mysql\"\n",
    ")\n",
    "\n",
    "print(mydb.connection_id)\n",
    "\n",
    "if mydb.is_connected() == False:\n",
    "    print(\"error in connecting to mysql database\")\n",
    "mycursor = mydb.cursor()\n",
    "\n",
    "#Retrieve all passengers who have booked a flight with a specific airline.\n",
    "mycursor.execute(\"SELECT Passenger.* FROM Passenger INNER JOIN Ticket ON Passenger.PId = Ticket.PId INNER JOIN Flight ON Flight.Flightno = Ticket.Flightno WHERE Flight.Airline_Name = 'United Airlines'\")\n",
    "\n",
    "# fetch all the rows from the query result\n",
    "result = mycursor.fetchall()\n",
    "\n",
    "# print the result\n",
    "for row in result:\n",
    "  print(row)\n"
   ]
  },
  {
   "cell_type": "code",
   "execution_count": 2,
   "id": "c5aa8804",
   "metadata": {},
   "outputs": [
    {
     "name": "stdout",
     "output_type": "stream",
     "text": [
      "('FL006', 'American Airlines', datetime.timedelta(seconds=43200), datetime.timedelta(seconds=50400), 'Miami', 'Atlanta', 10)\n"
     ]
    }
   ],
   "source": [
    "#Get all the flights from the 'Airline' table that depart from New York and arrive in Los Angeles   \n",
    "\n",
    "import mysql.connector\n",
    "mydb = mysql.connector.connect(\n",
    "    host=\"localhost\",\n",
    "    user=\"root\",\n",
    "    passwd=\"prishashah\",\n",
    "    database=\"mysql\"\n",
    ")\n",
    "\n",
    "if mydb.is_connected() == False:\n",
    "    print(\"error in connecting to mysql database\")\n",
    "mycursor = mydb.cursor()\n",
    "\n",
    "mycursor.execute(\"SELECT * FROM Flight WHERE source = 'Miami' AND destination = 'Atlanta'\")\n",
    "result = mycursor.fetchall()\n",
    "\n",
    "if mycursor.rowcount == 0:\n",
    "    print(\"No flights found matching the query criteria.\")\n",
    "else:\n",
    "    for row in result:\n",
    "        print(row)\n"
   ]
  },
  {
   "cell_type": "code",
   "execution_count": 4,
   "id": "5e210ca5",
   "metadata": {},
   "outputs": [
    {
     "name": "stdout",
     "output_type": "stream",
     "text": [
      "('P02022', 'Olivia', 'Garcia', 'Marie', datetime.date(1982, 1, 31), '4563455463', 41, 'Atlanta')\n",
      "('P96471', 'Ethan', 'Brown', 'James', datetime.date(1994, 8, 12), '9034121234', 41, 'Georgia')\n"
     ]
    }
   ],
   "source": [
    "#Get all the passengers who are older than 40 years old\n",
    "import mysql.connector\n",
    "mydb = mysql.connector.connect(\n",
    "    host=\"localhost\",\n",
    "    user=\"root\",\n",
    "    passwd=\"prishashah\",\n",
    "    database=\"mysql\"\n",
    ")\n",
    "\n",
    "if mydb.is_connected() == False:\n",
    "    print(\"error in connecting to mysql database\")\n",
    "mycursor = mydb.cursor()\n",
    "\n",
    "mycursor.execute(\"SELECT * FROM Passenger WHERE age > 40\")\n",
    "result=mycursor.fetchall()\n",
    "\n",
    "\n",
    "if mycursor.rowcount == 0:\n",
    "    print(\"No flights found matching the query criteria.\")\n",
    "else:\n",
    "    for row in result:\n",
    "        print(row)\n"
   ]
  },
  {
   "cell_type": "code",
   "execution_count": 6,
   "id": "3c99412e",
   "metadata": {},
   "outputs": [
    {
     "name": "stdout",
     "output_type": "stream",
     "text": [
      "('P15973', 'FL002', datetime.date(2023, 5, 1), 'P15973', '05G', 'Los Angeles', 'New York', 'Economy')\n",
      "('PN5678', 'FL005', datetime.date(2023, 5, 3), 'P15973', '22C', 'Atlanta', 'Miami', 'Business')\n"
     ]
    }
   ],
   "source": [
    "#Get all the tickets that were purchased by a specific passenger, identified by their passenger ID\n",
    "import mysql.connector\n",
    "mydb = mysql.connector.connect(\n",
    "    host=\"localhost\",\n",
    "    user=\"root\",\n",
    "    passwd=\"prishashah\",\n",
    "    database=\"mysql\"\n",
    ")\n",
    "\n",
    "if mydb.is_connected() == False:\n",
    "    print(\"error in connecting to mysql database\")\n",
    "mycursor = mydb.cursor()\n",
    "\n",
    "mycursor.execute(\"SELECT * FROM Ticket WHERE PId = 'P15973'\")\n",
    "result=mycursor.fetchall()\n",
    "\n",
    "if mycursor.rowcount == 0:\n",
    "    print(\"No flights found matching the query criteria.\")\n",
    "else:\n",
    "    for row in result:\n",
    "        print(row)"
   ]
  },
  {
   "cell_type": "code",
   "execution_count": 7,
   "id": "1c3bf732",
   "metadata": {},
   "outputs": [
    {
     "name": "stdout",
     "output_type": "stream",
     "text": [
      "(Decimal('502000'),)\n"
     ]
    }
   ],
   "source": [
    "#Get the total revenue earned from ticket sales:\n",
    "import mysql.connector\n",
    "mydb = mysql.connector.connect(\n",
    "    host=\"localhost\",\n",
    "    user=\"root\",\n",
    "    passwd=\"prishashah\",\n",
    "    database=\"mysql\"\n",
    ")\n",
    "\n",
    "if mydb.is_connected() == False:\n",
    "    print(\"error in connecting to mysql database\")\n",
    "mycursor = mydb.cursor()\n",
    "\n",
    "mycursor.execute(\"SELECT SUM(amount) FROM Payment\")\n",
    "result=mycursor.fetchall()\n",
    "\n",
    "if mycursor.rowcount == 0:\n",
    "    print(\"No flights found matching the query criteria.\")\n",
    "else:\n",
    "    for row in result:\n",
    "        print(row)"
   ]
  },
  {
   "cell_type": "code",
   "execution_count": 11,
   "id": "0a547a73",
   "metadata": {},
   "outputs": [
    {
     "name": "stdout",
     "output_type": "stream",
     "text": [
      "(Decimal('502000'),)\n"
     ]
    }
   ],
   "source": [
    "#Get the details of the passenger who booked a specific ticket, identified by its PNR number\n",
    "\n",
    "import mysql.connector\n",
    "mydb = mysql.connector.connect(\n",
    "    host=\"localhost\",\n",
    "    user=\"root\",\n",
    "    passwd=\"prishashah\",\n",
    "    database=\"mysql\"\n",
    ")\n",
    "\n",
    "if mydb.is_connected() == False:\n",
    "    print(\"error in connecting to mysql database\")\n",
    "mycursor = mydb.cursor()\n",
    "\n",
    "mycursor.execute(\"SELECT Passenger.* FROM Passenger INNER JOIN Ticket ON Passenger.PId = Ticket.PId WHERE Ticket.PNR_No ='PN1235'\")\n",
    "mycursor.fetchall()\n",
    "\n",
    "if mycursor.rowcount == 0:\n",
    "    print(\"No flights found matching the query criteria.\")\n",
    "else:\n",
    "    for row in result:\n",
    "        print(row)"
   ]
  },
  {
   "cell_type": "code",
   "execution_count": 6,
   "id": "d8be8a81",
   "metadata": {},
   "outputs": [
    {
     "name": "stdout",
     "output_type": "stream",
     "text": [
      "No flights found matching the query criteria.\n"
     ]
    }
   ],
   "source": [
    "#Get the details of the airline, flight and passenger for a specific ticket, identified by its PNR number:\n",
    "\n",
    "import mysql.connector\n",
    "mydb = mysql.connector.connect(\n",
    "    host=\"localhost\",\n",
    "    user=\"root\",\n",
    "    passwd=\"prishashah\",\n",
    "    database=\"mysql\"\n",
    ")\n",
    "\n",
    "if mydb.is_connected() == False:\n",
    "    print(\"error in connecting to mysql database\")\n",
    "mycursor = mydb.cursor()\n",
    "\n",
    "mycursor.execute(\"SELECT Airline.*, Flight.*, Passenger.* FROM Airline INNER JOIN Flight ON Airline.Airline_Name = Flight.Airline_Name INNER JOIN Ticket ON Flight.FlightNo= Ticket.FlightNo INNER JOIN Passenger ON Passenger.PId = Ticket.PId WHERE Ticket.PNR_No ='PN7891'\")\n",
    "mycursor.fetchall()\n",
    "\n",
    "if mycursor.rowcount == 0:\n",
    "    print(\"No flights found matching the query criteria.\")\n",
    "else:\n",
    "    for row in result:\n",
    "        print(row)"
   ]
  },
  {
   "cell_type": "code",
   "execution_count": 2,
   "id": "f9b507da",
   "metadata": {},
   "outputs": [
    {
     "name": "stdout",
     "output_type": "stream",
     "text": [
      "No flights found matching the query criteria.\n"
     ]
    }
   ],
   "source": [
    "import mysql.connector\n",
    "mydb = mysql.connector.connect(\n",
    "    host=\"localhost\",\n",
    "    user=\"root\",\n",
    "    passwd=\"prishashah\",\n",
    "    database=\"mysql\"\n",
    ")\n",
    "if mydb.is_connected() == False:\n",
    "    print(\"error in connecting to mysql database\")\n",
    "mycursor = mydb.cursor()\n",
    "\n",
    "mycursor.execute(\"ALTER TABLE Ticket RENAME COLUMN Flightno TO FlightNo\")\n",
    "result = mycursor.fetchall()\n",
    "\n",
    "if mycursor.rowcount == 0:\n",
    "    print(\"No flights found matching the query criteria.\")\n",
    "else:\n",
    "    for row in result:\n",
    "        print(row)"
   ]
  },
  {
   "cell_type": "code",
   "execution_count": 1,
   "id": "8bd16007",
   "metadata": {},
   "outputs": [
    {
     "name": "stdout",
     "output_type": "stream",
     "text": [
      "('P64319', 'William', 'Jackson', 'Daniel', datetime.date(1990, 10, 23), '9034223123', 32, 'Ohio')\n"
     ]
    }
   ],
   "source": [
    "#Find all passengers on a particular flight\n",
    "\n",
    "import mysql.connector\n",
    "mydb = mysql.connector.connect(\n",
    "    host=\"localhost\",\n",
    "    user=\"root\",\n",
    "    passwd=\"prishashah\",\n",
    "    database=\"mysql\"\n",
    ")\n",
    "if mydb.is_connected() == False:\n",
    "    print(\"error in connecting to mysql database\")\n",
    "mycursor = mydb.cursor()\n",
    "\n",
    "mycursor.execute(\"SELECT Passenger.* FROM Passenger INNER JOIN Ticket ON Passenger.PId = Ticket.PId WHERE Ticket.Flightno = 'FL004'\")\n",
    "result = mycursor.fetchall()\n",
    "\n",
    "if mycursor.rowcount == 0:\n",
    "    print(\"No flights found matching the query criteria.\")\n",
    "else:\n",
    "    for row in result:\n",
    "        print(row)"
   ]
  },
  {
   "cell_type": "code",
   "execution_count": null,
   "id": "e068557f",
   "metadata": {},
   "outputs": [],
   "source": [
    "#Find all flights in a particular class\n",
    "import mysql.connector\n",
    "mydb = mysql.connector.connect(\n",
    "    host=\"localhost\",\n",
    "    user=\"root\",\n",
    "    passwd=\"prishashah\",\n",
    "    database=\"mysql\"\n",
    ")\n",
    "if mydb.is_connected() == False:\n",
    "    print(\"error in connecting to mysql database\")\n",
    "mycursor = mydb.cursor()\n",
    "\n",
    "mycursor.execute(\"SELECT FlightNo from Flight INNER JOIN Ticket ON Flight.FlightNo=Ticket.FlightNo WHERE Flight.Class='Economy'\")\n",
    "result = mycursor.fetchall()\n",
    "\n",
    "if mycursor.rowcount == 0:\n",
    "    print(\"No flights found matching the query criteria.\")\n",
    "else:\n",
    "    for row in result:\n",
    "        print(row)"
   ]
  },
  {
   "cell_type": "code",
   "execution_count": 3,
   "id": "ead4f701",
   "metadata": {},
   "outputs": [
    {
     "name": "stdout",
     "output_type": "stream",
     "text": [
      "(Decimal('128000'),)\n"
     ]
    }
   ],
   "source": [
    "#Find the total revenue generated by a particular flight\n",
    "import mysql.connector\n",
    "mydb = mysql.connector.connect(\n",
    "    host=\"localhost\",\n",
    "    user=\"root\",\n",
    "    passwd=\"prishashah\",\n",
    "    database=\"mysql\"\n",
    ")\n",
    "if mydb.is_connected() == False:\n",
    "    print(\"error in connecting to mysql database\")\n",
    "mycursor = mydb.cursor()\n",
    "\n",
    "mycursor.execute(\"SELECT SUM(Payment.Amount) FROM Payment INNER JOIN Ticket ON Payment.PNR_No = Ticket.PNR_No WHERE Ticket.FlightNo= 'FL001'\")\n",
    "result = mycursor.fetchall()\n",
    "\n",
    "if mycursor.rowcount == 0:\n",
    "    print(\"No flights found matching the query criteria.\")\n",
    "else:\n",
    "    for row in result:\n",
    "        print(row)"
   ]
  },
  {
   "cell_type": "code",
   "execution_count": 5,
   "id": "bb175603",
   "metadata": {},
   "outputs": [
    {
     "name": "stdout",
     "output_type": "stream",
     "text": [
      "No flights found matching the query criteria.\n"
     ]
    }
   ],
   "source": [
    "#Find the name and phone number of the passenger who made a particular payment\n",
    "\n",
    "import mysql.connector\n",
    "mydb = mysql.connector.connect(\n",
    "    host=\"localhost\",\n",
    "    user=\"root\",\n",
    "    passwd=\"prishashah\",\n",
    "    database=\"mysql\"\n",
    ")\n",
    "if mydb.is_connected() == False:\n",
    "    print(\"error in connecting to mysql database\")\n",
    "mycursor = mydb.cursor()\n",
    "\n",
    "mycursor.execute(\"SELECT Passenger.PFirstName, Passenger.PhNo FROM Passenger INNER JOIN Ticket ON Passenger.PId = Ticket.PId INNER JOIN Payment ON Ticket.PNR_No = Payment.PNR_No WHERE Payment.Payment_id = 'PAY008' \")\n",
    "result = mycursor.fetchall()\n",
    "\n",
    "if mycursor.rowcount == 0:\n",
    "    print(\"No flights found matching the query criteria.\")\n",
    "else:\n",
    "    for row in result:\n",
    "        print(row)"
   ]
  },
  {
   "cell_type": "code",
   "execution_count": 6,
   "id": "95b986b7",
   "metadata": {},
   "outputs": [
    {
     "name": "stdout",
     "output_type": "stream",
     "text": [
      "('FL004', 'Delta', datetime.timedelta(seconds=43200), datetime.timedelta(seconds=54000), 'Houston', 'Chicago', 35)\n"
     ]
    }
   ],
   "source": [
    "#Find all flights with an arrival in a particular city\n",
    "import mysql.connector\n",
    "mydb = mysql.connector.connect(\n",
    "    host=\"localhost\",\n",
    "    user=\"root\",\n",
    "    passwd=\"prishashah\",\n",
    "    database=\"mysql\"\n",
    ")\n",
    "if mydb.is_connected() == False:\n",
    "    print(\"error in connecting to mysql database\")\n",
    "mycursor = mydb.cursor()\n",
    "\n",
    "mycursor.execute(\"SELECT * FROM Flight WHERE Destination= 'Chicago'\")\n",
    "result = mycursor.fetchall()\n",
    "\n",
    "if mycursor.rowcount == 0:\n",
    "    print(\"No flights found matching the query criteria.\")\n",
    "else:\n",
    "    for row in result:\n",
    "        print(row)"
   ]
  },
  {
   "cell_type": "code",
   "execution_count": 8,
   "id": "f94aa5eb",
   "metadata": {},
   "outputs": [
    {
     "name": "stdout",
     "output_type": "stream",
     "text": [
      "(1,)\n"
     ]
    }
   ],
   "source": [
    "#Find the total number of passengers on a particular flight\n",
    "import mysql.connector\n",
    "mydb = mysql.connector.connect(\n",
    "    host=\"localhost\",\n",
    "    user=\"root\",\n",
    "    passwd=\"prishashah\",\n",
    "    database=\"mysql\"\n",
    ")\n",
    "if mydb.is_connected() == False:\n",
    "    print(\"error in connecting to mysql database\")\n",
    "mycursor = mydb.cursor()\n",
    "\n",
    "mycursor.execute(\"SELECT COUNT(*) FROM Passenger INNER JOIN Ticket ON Passenger.PId = Ticket.PId WHERE Ticket.FlightNo = 'FL004'\")\n",
    "result = mycursor.fetchall()\n",
    "\n",
    "if mycursor.rowcount == 0:\n",
    "    print(\"No flights found matching the query criteria.\")\n",
    "else:\n",
    "    for row in result:\n",
    "        print(row)\n",
    "        "
   ]
  },
  {
   "cell_type": "code",
   "execution_count": 3,
   "id": "3cfba9f7",
   "metadata": {},
   "outputs": [
    {
     "name": "stdout",
     "output_type": "stream",
     "text": [
      "(Decimal('184000'),)\n"
     ]
    }
   ],
   "source": [
    "#Find the total revenue generated by a particular airline\n",
    "\n",
    "import mysql.connector\n",
    "mydb = mysql.connector.connect(\n",
    "    host=\"localhost\",\n",
    "    user=\"root\",\n",
    "    passwd=\"prishashah\",\n",
    "    database=\"mysql\"\n",
    ")\n",
    "if mydb.is_connected() == False:\n",
    "    print(\"error in connecting to mysql database\")\n",
    "mycursor = mydb.cursor()\n",
    "\n",
    "mycursor.execute(\"SELECT SUM(Payment.Amount) FROM Payment INNER JOIN Ticket ON Payment.PNR_No = Ticket.PNR_No INNER JOIN flight ON Ticket.FlightNo = Flight.FlightNo INNER JOIN airline ON flight.Airline_Name = airline.Airline_Name WHERE Airline.Airline_Name = 'Delta'\")\n",
    "result = mycursor.fetchall()\n",
    "\n",
    "if mycursor.rowcount == 0:\n",
    "    print(\"No flights found matching the query criteria.\")\n",
    "else:\n",
    "    for row in result:\n",
    "        print(row)"
   ]
  },
  {
   "cell_type": "code",
   "execution_count": 5,
   "id": "f76237d1",
   "metadata": {},
   "outputs": [
    {
     "name": "stdout",
     "output_type": "stream",
     "text": [
      "('Liam', 'Georgia')\n"
     ]
    }
   ],
   "source": [
    "#Find the name and address of the passenger with a particular PNR number\n",
    "\n",
    "import mysql.connector\n",
    "mydb = mysql.connector.connect(\n",
    "    host=\"localhost\",\n",
    "    user=\"root\",\n",
    "    passwd=\"prishashah\",\n",
    "    database=\"mysql\"\n",
    ")\n",
    "if mydb.is_connected() == False:\n",
    "    print(\"error in connecting to mysql database\")\n",
    "mycursor = mydb.cursor()\n",
    "\n",
    "mycursor.execute(\"SELECT Passenger.PFirstName, Passenger.Address FROM Passenger INNER JOIN Ticket ON Passenger.PId = Ticket.PId WHERE Ticket.PNR_No = 'PN5679'\")\n",
    "result = mycursor.fetchall()\n",
    "\n",
    "if mycursor.rowcount == 0:\n",
    "    print(\"No flights found matching the query criteria.\")\n",
    "else:\n",
    "    for row in result:\n",
    "        print(row)"
   ]
  },
  {
   "cell_type": "code",
   "execution_count": 6,
   "id": "1bb29d20",
   "metadata": {},
   "outputs": [
    {
     "name": "stdout",
     "output_type": "stream",
     "text": [
      "('FL005', 'Southwest Airlines', datetime.timedelta(seconds=28800), datetime.timedelta(seconds=36000), 'Atlanta', 'Miami', 15)\n",
      "('FL011', 'Southwest Airlines', datetime.timedelta(seconds=25200), datetime.timedelta(seconds=32400), 'Orlando', 'New Orleans', 91)\n",
      "('Fl014', 'Southwest Airlines', datetime.timedelta(seconds=50400), datetime.timedelta(seconds=57600), 'Phoneix', 'San Diego', 21)\n"
     ]
    }
   ],
   "source": [
    "#Find all flights operated by a particular airline\n",
    "\n",
    "import mysql.connector\n",
    "mydb = mysql.connector.connect(\n",
    "    host=\"localhost\",\n",
    "    user=\"root\",\n",
    "    passwd=\"prishashah\",\n",
    "    database=\"mysql\"\n",
    ")\n",
    "if mydb.is_connected() == False:\n",
    "    print(\"error in connecting to mysql database\")\n",
    "mycursor = mydb.cursor()\n",
    "\n",
    "mycursor.execute(\"SELECT * FROM Flight WHERE Airline_Name = 'Southwest Airlines'\")\n",
    "result = mycursor.fetchall()\n",
    "\n",
    "if mycursor.rowcount == 0:\n",
    "    print(\"No flights found matching the query criteria.\")\n",
    "else:\n",
    "    for row in result:\n",
    "        print(row)"
   ]
  },
  {
   "cell_type": "code",
   "execution_count": 7,
   "id": "68033d42",
   "metadata": {},
   "outputs": [
    {
     "name": "stdout",
     "output_type": "stream",
     "text": [
      "(Decimal('36.0000'),)\n"
     ]
    }
   ],
   "source": [
    "#Find the average age of passengers on a particular flight\n",
    "\n",
    "import mysql.connector\n",
    "mydb = mysql.connector.connect(\n",
    "    host=\"localhost\",\n",
    "    user=\"root\",\n",
    "    passwd=\"prishashah\",\n",
    "    database=\"mysql\"\n",
    ")\n",
    "if mydb.is_connected() == False:\n",
    "    print(\"error in connecting to mysql database\")\n",
    "mycursor = mydb.cursor()\n",
    "\n",
    "mycursor.execute(\"SELECT AVG(age) FROM Passenger INNER JOIN Ticket ON Passenger.PId = Ticket.PId WHERE Ticket.FlightNo = 'FL002'\")\n",
    "result = mycursor.fetchall()\n",
    "\n",
    "if mycursor.rowcount == 0:\n",
    "    print(\"No flights found matching the query criteria.\")\n",
    "else:\n",
    "    for row in result:\n",
    "        print(row)"
   ]
  },
  {
   "cell_type": "code",
   "execution_count": 8,
   "id": "69115709",
   "metadata": {},
   "outputs": [
    {
     "name": "stdout",
     "output_type": "stream",
     "text": [
      "('PAY002', 'PN5678', datetime.date(2022, 1, 2), 30000)\n"
     ]
    }
   ],
   "source": [
    "#Find all payments made by a particular passenger\n",
    "import mysql.connector\n",
    "mydb = mysql.connector.connect(\n",
    "    host=\"localhost\",\n",
    "    user=\"root\",\n",
    "    passwd=\"prishashah\",\n",
    "    database=\"mysql\"\n",
    ")\n",
    "if mydb.is_connected() == False:\n",
    "    print(\"error in connecting to mysql database\")\n",
    "mycursor = mydb.cursor()\n",
    "\n",
    "mycursor.execute(\"SELECT Payment.* FROM Payment INNER JOIN Ticket ON Payment.PNR_No = Ticket.PNR_No WHERE Ticket.Pd = 'P15973'\")\n",
    "result = mycursor.fetchall()\n",
    "\n",
    "if mycursor.rowcount == 0:\n",
    "    print(\"No flights found matching the query criteria.\")\n",
    "else:\n",
    "    for row in result:\n",
    "        print(row)"
   ]
  },
  {
   "cell_type": "code",
   "execution_count": 9,
   "id": "8f1dee96",
   "metadata": {},
   "outputs": [
    {
     "name": "stdout",
     "output_type": "stream",
     "text": [
      "('FL003', 'United Airlines', datetime.timedelta(seconds=27000), datetime.timedelta(seconds=37800), 'Chicago', 'Houston', 10)\n",
      "('FL006', 'American Airlines', datetime.timedelta(seconds=43200), datetime.timedelta(seconds=50400), 'Miami', 'Atlanta', 10)\n",
      "('FL009', 'United Airlines', datetime.timedelta(seconds=21600), datetime.timedelta(seconds=28800), 'Boston', 'Washington', 10)\n"
     ]
    }
   ],
   "source": [
    "#Find the flight with the least seat available\n",
    "import mysql.connector\n",
    "mydb = mysql.connector.connect(\n",
    "    host=\"localhost\",\n",
    "    user=\"root\",\n",
    "    passwd=\"prishashah\",\n",
    "    database=\"mysql\"\n",
    ")\n",
    "if mydb.is_connected() == False:\n",
    "    print(\"error in connecting to mysql database\")\n",
    "mycursor = mydb.cursor()\n",
    "\n",
    "mycursor.execute(\"SELECT Flight.* FROM Flight WHERE Seat_avail= (SELECT MIN(Seat_avail) FROM Flight)\")\n",
    "result = mycursor.fetchall()\n",
    "\n",
    "if mycursor.rowcount == 0:\n",
    "    print(\"No flights found matching the query criteria.\")\n",
    "else:\n",
    "    for row in result:\n",
    "        print(row)\n"
   ]
  },
  {
   "cell_type": "code",
   "execution_count": 11,
   "id": "d6b2321d",
   "metadata": {},
   "outputs": [
    {
     "name": "stdout",
     "output_type": "stream",
     "text": [
      "('PN1235', 'FL002', datetime.date(2023, 5, 1), 'P53269', '18A', 'Los Angeles', 'New York', 'Business')\n",
      "('PN3458', 'FL009', datetime.date(2023, 5, 5), 'P53269', '12C', 'Boston', 'Washington', 'Business')\n"
     ]
    }
   ],
   "source": [
    "#Retrieve all tickets that were purchased by a specific passenger.\n",
    "import mysql.connector\n",
    "mydb = mysql.connector.connect(\n",
    "    host=\"localhost\",\n",
    "    user=\"root\",\n",
    "    passwd=\"prishashah\",\n",
    "    database=\"mysql\"\n",
    ")\n",
    "if mydb.is_connected() == False:\n",
    "    print(\"error in connecting to mysql database\")\n",
    "mycursor = mydb.cursor()\n",
    "\n",
    "mycursor.execute(\"SELECT * FROM Ticket WHERE PId = 'P53269'\")\n",
    "result = mycursor.fetchall()\n",
    "\n",
    "if mycursor.rowcount == 0:\n",
    "    print(\"No flights found matching the query criteria.\")\n",
    "else:\n",
    "    for row in result:\n",
    "        print(row)\n",
    "\n",
    "\n"
   ]
  },
  {
   "cell_type": "code",
   "execution_count": null,
   "id": "d1d5b9e8",
   "metadata": {},
   "outputs": [],
   "source": []
  }
 ],
 "metadata": {
  "kernelspec": {
   "display_name": "Python 3 (ipykernel)",
   "language": "python",
   "name": "python3"
  },
  "language_info": {
   "codemirror_mode": {
    "name": "ipython",
    "version": 3
   },
   "file_extension": ".py",
   "mimetype": "text/x-python",
   "name": "python",
   "nbconvert_exporter": "python",
   "pygments_lexer": "ipython3",
   "version": "3.9.13"
  }
 },
 "nbformat": 4,
 "nbformat_minor": 5
}
